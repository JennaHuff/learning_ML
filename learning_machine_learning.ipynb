{
 "cells": [
  {
   "cell_type": "code",
   "execution_count": null,
   "id": "7bbe6bc1-0507-4b53-85b3-eb596059bdb6",
   "metadata": {
    "editable": true,
    "scrolled": true,
    "slideshow": {
     "slide_type": ""
    },
    "tags": []
   },
   "outputs": [],
   "source": [
    "!pip install -U pip setuptools wheel spacy pandas scikit-learn matplotlib"
   ]
  },
  {
   "cell_type": "code",
   "execution_count": 163,
   "id": "17539ca5-134e-4740-bf23-deeffc73b35a",
   "metadata": {},
   "outputs": [
    {
     "name": "stdout",
     "output_type": "stream",
     "text": [
      "[{'overall': 5.0, 'verified': True, 'reviewTime': '08 22, 2013', 'reviewerID': 'A34A1UP40713F8', 'asin': 'B00009W3I4', 'style': {'Style:': ' Dryer Vent'}, 'reviewerName': 'James. Backus', 'reviewText': 'I like this as a vent as well as something that will keep house warmer in winter.  I sanded it and then painted it the same color as the house.  Looks great.', 'summary': 'Great product', 'unixReviewTime': 1377129600}, {'overall': 5.0, 'verified': True, 'reviewTime': '02 8, 2016', 'reviewerID': 'A1AHW6I678O6F2', 'asin': 'B00009W3PA', 'style': {'Size:': ' 6-Foot'}, 'reviewerName': 'kevin.', 'reviewText': 'good item', 'summary': 'Five Stars', 'unixReviewTime': 1454889600}]\n"
     ]
    }
   ],
   "source": [
    "import json\n",
    "\n",
    "with open(\"./learning_ML/amazon_reviews.json\", \"r\", encoding=\"utf-8\") as file:\n",
    "    data = [json.loads(s) for s in file]\n",
    "print(data[:2])"
   ]
  },
  {
   "cell_type": "code",
   "execution_count": 31,
   "id": "10de0bff-ab78-4e39-ab11-7ddbdce225da",
   "metadata": {
    "scrolled": true
   },
   "outputs": [
    {
     "name": "stdout",
     "output_type": "stream",
     "text": [
      "   overall  verified   reviewTime      reviewerID        asin   reviewerName  \\\n",
      "0      5.0      True  08 22, 2013  A34A1UP40713F8  B00009W3I4  James. Backus   \n",
      "1      5.0      True   02 8, 2016  A1AHW6I678O6F2  B00009W3PA         kevin.   \n",
      "2      5.0      True   08 5, 2015   A8R48NKTGCJDQ  B00009W3PA      CDBrannom   \n",
      "\n",
      "                                          reviewText        summary  \\\n",
      "0  I like this as a vent as well as something tha...  Great product   \n",
      "1                                          good item     Five Stars   \n",
      "2                     Fit my new LG dryer perfectly.     Five Stars   \n",
      "\n",
      "   unixReviewTime style.Style: style.Size: style.Color: vote image  \\\n",
      "0      1377129600   Dryer Vent         NaN          NaN  NaN   NaN   \n",
      "1      1454889600          NaN      6-Foot          NaN  NaN   NaN   \n",
      "2      1438732800          NaN      6-Foot          NaN  NaN   NaN   \n",
      "\n",
      "  style.Size Name: style.Style Name: style.Package Quantity:  \n",
      "0              NaN               NaN                     NaN  \n",
      "1              NaN               NaN                     NaN  \n",
      "2              NaN               NaN                     NaN  \n"
     ]
    }
   ],
   "source": [
    "import pandas as pd\n",
    "\n",
    "df = pd.json_normalize(data)\n",
    "print(df.head(3))"
   ]
  },
  {
   "cell_type": "code",
   "execution_count": 32,
   "id": "ef49a018-37e5-4eb3-bc09-0e6dafa19ce5",
   "metadata": {},
   "outputs": [
    {
     "name": "stdout",
     "output_type": "stream",
     "text": [
      "   overall                                         reviewText\n",
      "0      5.0  I like this as a vent as well as something tha...\n",
      "1      5.0                                          good item\n",
      "2      5.0                     Fit my new LG dryer perfectly.\n",
      "3      5.0                     Good value for electric dryers\n",
      "4      5.0                  Price and delivery was excellent.\n"
     ]
    }
   ],
   "source": [
    "df2 = df[[\"overall\", \"reviewText\"]].copy()\n",
    "print(df2.head())"
   ]
  },
  {
   "cell_type": "code",
   "execution_count": 33,
   "id": "cdb1ba62-7c30-4d0f-8429-743165fdbb2d",
   "metadata": {},
   "outputs": [
    {
     "name": "stdout",
     "output_type": "stream",
     "text": [
      "[1. 2. 3. 4. 5.]\n"
     ]
    }
   ],
   "source": [
    "stars = df2.overall.unique()\n",
    "stars.sort()\n",
    "print(stars)"
   ]
  },
  {
   "cell_type": "code",
   "execution_count": 34,
   "id": "739581b4-3ac4-4c5c-989a-bce430cab7ea",
   "metadata": {},
   "outputs": [
    {
     "name": "stdout",
     "output_type": "stream",
     "text": [
      "[0.2, 0.4, 0.6, 0.8, 1.0]\n"
     ]
    }
   ],
   "source": [
    "rescaled_stars = list(map(lambda x: float(x/5), stars))\n",
    "print(rescaled_stars)"
   ]
  },
  {
   "cell_type": "code",
   "execution_count": 166,
   "id": "2de6d62c-ca3c-4cae-9b5d-c53fb281a71f",
   "metadata": {},
   "outputs": [
    {
     "name": "stdout",
     "output_type": "stream",
     "text": [
      "5    1.0\n",
      "6    0.8\n",
      "7    0.4\n",
      "8    0.4\n",
      "9    0.2\n",
      "Name: ratio, dtype: float64\n"
     ]
    }
   ],
   "source": [
    "rescaled_ratings = list(map(lambda x: float(x/5), df2[\"overall\"]))\n",
    "df2[\"ratio\"] = df2[\"overall\"].apply(lambda x: float(x/5))\n",
    "print(df2[\"ratio\"][5:10])"
   ]
  },
  {
   "cell_type": "code",
   "execution_count": 141,
   "id": "8f52cc8c-6708-40c2-97cd-aa56c46723f1",
   "metadata": {},
   "outputs": [
    {
     "data": {
      "image/png": "[encoded data removed]",
      "text/plain": [
       "<Figure size 640x480 with 1 Axes>"
      ]
     },
     "metadata": {},
     "output_type": "display_data"
    }
   ],
   "source": [
    "import matplotlib.pyplot as plt\n",
    "\n",
    "plt.hist(df2[\"overall\"], bins=10)\n",
    "plt.xlabel('Rating (in stars)')\n",
    "plt.ylabel('Frequency')\n",
    "plt.title('Distribution of Ratings')\n",
    "plt.show()"
   ]
  },
  {
   "cell_type": "code",
   "execution_count": 174,
   "id": "d5fd2db0-ad12-43b4-93fe-4f3749686745",
   "metadata": {},
   "outputs": [
    {
     "data": {
      "text/plain": [
       "array(['asked', 'assumed', 'at', 'attach', 'attached', 'attaching',\n",
       "       'attachment', 'attention', 'attic', 'authorized', 'auto',\n",
       "       'available', 'ave', 'away', 'awesome', 'back', 'backed', 'backup',\n",
       "       'bad', 'bag', 'basically', 'bath', 'batteries', 'be', 'became',\n",
       "       'because', 'becomes', 'been', 'before', 'began', 'begin', 'behind',\n",
       "       'being', 'believe', 'bell', 'bend', 'bends', 'bendy', 'best',\n",
       "       'better', 'between', 'big', 'bigger', 'bill', 'birds', 'bit',\n",
       "       'bits', 'blankets', 'blew', 'blockage'], dtype=object)"
      ]
     },
     "execution_count": 174,
     "metadata": {},
     "output_type": "execute_result"
    }
   ],
   "source": [
    "from sklearn.model_selection import train_test_split\n",
    "from sklearn.feature_extraction.text import CountVectorizer, TfidfVectorizer\n",
    "\n",
    "X_train, X_test, y_train, y_test = train_test_split(df2.reviewText, df2.ratio, test_size = 0.2)\n",
    "\n",
    "v = TfidfVectorizer()\n",
    "X_train_cv = v.fit_transform(X_train)\n",
    "X_test_cv = v.transform(X_test)\n",
    "\n",
    "v.get_feature_names_out()[100:150]"
   ]
  },
  {
   "cell_type": "code",
   "execution_count": 38,
   "id": "c6bfba13-6b62-4933-b4dd-f49e30bac12f",
   "metadata": {},
   "outputs": [
    {
     "data": {
      "text/plain": [
       "{'first': 401,\n",
       " 'thing': 1084,\n",
       " 'it': 565,\n",
       " 'works': 1247,\n",
       " 'the': 1076,\n",
       " 'kit': 585,\n",
       " 'is': 561,\n",
       " 'great': 460,\n",
       " 'in': 538,\n",
       " 'what': 1215}"
      ]
     },
     "execution_count": 38,
     "metadata": {},
     "output_type": "execute_result"
    }
   ],
   "source": [
    "dict(list(v.vocabulary_.items())[:10])"
   ]
  },
  {
   "cell_type": "code",
   "execution_count": null,
   "id": "f138d4c5-3187-48e7-9ac8-eee374a43d5d",
   "metadata": {
    "scrolled": true
   },
   "outputs": [],
   "source": [
    "from sklearn.ensemble import RandomForestClassifier\n",
    "\n",
    "y_train_class = (y_train >= 0.5).astype(int)\n",
    "y_test_class = (y_test >= 0.5).astype(int)\n",
    "\n",
    "model = RandomForestClassifier(n_estimators=100)\n",
    "model.fit(X_train_cv, y_train_class)"
   ]
  },
  {
   "cell_type": "code",
   "execution_count": 151,
   "id": "6e4c7d3f-c7c8-4b00-bb44-0ae513cbb4f9",
   "metadata": {},
   "outputs": [
    {
     "name": "stdout",
     "output_type": "stream",
     "text": [
      "              precision    recall  f1-score   support\n",
      "\n",
      "           0       1.00      0.83      0.91         6\n",
      "           1       1.00      1.00      1.00       450\n",
      "\n",
      "    accuracy                           1.00       456\n",
      "   macro avg       1.00      0.92      0.95       456\n",
      "weighted avg       1.00      1.00      1.00       456\n",
      "\n"
     ]
    }
   ],
   "source": [
    "from sklearn.metrics import classification_report\n",
    "\n",
    "y_pred = model.predict(X_test_cv)\n",
    "print(classification_report(y_test_class, y_pred))"
   ]
  },
  {
   "cell_type": "code",
   "execution_count": 111,
   "id": "b379710a-3780-44ca-99cf-94ffa0d92755",
   "metadata": {},
   "outputs": [
    {
     "name": "stdout",
     "output_type": "stream",
     "text": [
      "Positive Test: [1]\n",
      "Negative Test: [1]\n"
     ]
    }
   ],
   "source": [
    "positive_test = [\"love this amazing product\"]\n",
    "negative_test = [\"hate this awful terrible product\"]\n",
    "\n",
    "print(\"Positive Test:\", model.predict(v.transform(positive_test)))\n",
    "print(\"Negative Test:\", model.predict(v.transform(negative_test)))"
   ]
  },
  {
   "cell_type": "code",
   "execution_count": 180,
   "id": "7393763b-2f97-44cb-9dc6-464e629b4e96",
   "metadata": {
    "editable": true,
    "slideshow": {
     "slide_type": ""
    },
    "tags": []
   },
   "outputs": [
    {
     "data": {
      "image/png": "[encoded data removed]",
      "text/plain": [
       "<Figure size 640x480 with 1 Axes>"
      ]
     },
     "metadata": {},
     "output_type": "display_data"
    },
    {
     "data": {
      "image/png": "[encoded data removed]",
      "text/plain": [
       "<Figure size 640x480 with 1 Axes>"
      ]
     },
     "metadata": {},
     "output_type": "display_data"
    }
   ],
   "source": [
    "import numpy as np\n",
    "\n",
    "plt.bar([0, 1], [np.count_nonzero(y_train_class == 0), np.count_nonzero(y_train_class == 1)], width = 0.5)\n",
    "plt.xticks([0, 1], ['0', '1'])\n",
    "plt.xlabel('Predictions')\n",
    "plt.ylabel('Frequency')\n",
    "plt.title('Distribution of training labels')\n",
    "plt.show()\n",
    "\n",
    "plt.bar([0, 1], [np.count_nonzero(y_pred == 0), np.count_nonzero(y_pred == 1)], width = 0.5)\n",
    "plt.xticks([0, 1], ['0', '1'])\n",
    "plt.xlabel('Predictions')\n",
    "plt.ylabel('Frequency')\n",
    "plt.title('Distribution of predictions')\n",
    "plt.show()"
   ]
  },
  {
   "cell_type": "markdown",
   "id": "54b7288b-d2b7-4795-adc2-377cc0f2afb7",
   "metadata": {
    "editable": true,
    "slideshow": {
     "slide_type": ""
    },
    "tags": []
   },
   "source": [
    "These graphs show that the model's predictions are coherent with the distribution of training data. However its accuracy only stems from the fact that there are very few bad comments to predict, hence even with only failed predictions the model's score would remain high. \n",
    "\n",
    "The model has a 0.83 recall score on bad-comment detections."
   ]
  }
 ],
 "metadata": {
  "kernelspec": {
   "display_name": "Python 3 (ipykernel)",
   "language": "python",
   "name": "python3"
  },
  "language_info": {
   "codemirror_mode": {
    "name": "ipython",
    "version": 3
   },
   "file_extension": ".py",
   "mimetype": "text/x-python",
   "name": "python",
   "nbconvert_exporter": "python",
   "pygments_lexer": "ipython3",
   "version": "3.10.2"
  }
 },
 "nbformat": 4,
 "nbformat_minor": 5
}
